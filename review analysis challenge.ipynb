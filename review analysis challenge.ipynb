{
 "cells": [
  {
   "cell_type": "code",
   "execution_count": 113,
   "metadata": {
    "collapsed": true
   },
   "outputs": [],
   "source": [
    "%matplotlib inline\n",
    "import numpy as np\n",
    "import pandas as pd\n",
    "import scipy\n",
    "import sklearn\n",
    "import matplotlib.pyplot as plt\n",
    "import seaborn as sns\n",
    "\n",
    "from sklearn.naive_bayes import BernoulliNB\n",
    "from sklearn.model_selection import train_test_split\n",
    "from sklearn.model_selection import cross_val_score\n"
   ]
  },
  {
   "cell_type": "code",
   "execution_count": 121,
   "metadata": {
    "collapsed": false
   },
   "outputs": [],
   "source": [
    "sent1 = pd.read_csv(\n",
    "    '/Users/jAir/Desktop/Research/thinkful/datasets/sentiment labelled sentences/amazon_cells_labelled.txt', \n",
    "    sep=\"\\t\", header = None)\n",
    "sent1.columns = ['review', 'score']"
   ]
  },
  {
   "cell_type": "code",
   "execution_count": 122,
   "metadata": {
    "collapsed": false
   },
   "outputs": [],
   "source": [
    "# Iteration 1\n",
    "poswords1 = ['good', 'love', 'great', 'best', 'must have', 'recommend', 'well', 'fine', 'wow', 'joy', 'easy',\n",
    "           'like', 'excellent', 'worked', 'favorite']\n",
    "\n",
    "negwords1 = ['wasted','misleading','problem','didn\\'t','poor','worthless','not','disappointed','bad','doesn\\'t','broke']\n",
    "\n",
    "for key in poswords1:\n",
    "    sent1[str(key)] = sent1.review.str.contains(\n",
    "    ' '+str(key)+ ' ',\n",
    "    case=False)\n",
    "    \n",
    "for key in negwords2:\n",
    "    sent1[str(key)] = sent1.review.str.contains(\n",
    "    ' '+str(key)+ ' ',\n",
    "    case=False)"
   ]
  },
  {
   "cell_type": "code",
   "execution_count": 123,
   "metadata": {
    "collapsed": false
   },
   "outputs": [
    {
     "data": {
      "text/plain": [
       "<matplotlib.axes._subplots.AxesSubplot at 0x115e93f98>"
      ]
     },
     "execution_count": 123,
     "metadata": {},
     "output_type": "execute_result"
    },
    {
     "data": {
      "image/png": "[encoded data removed]",
      "text/plain": [
       "<matplotlib.figure.Figure at 0x115e88a90>"
      ]
     },
     "metadata": {},
     "output_type": "display_data"
    }
   ],
   "source": [
    "sns.heatmap(sent1.corr())"
   ]
  },
  {
   "cell_type": "code",
   "execution_count": 124,
   "metadata": {
    "collapsed": false
   },
   "outputs": [],
   "source": [
    "data = sent1.loc[:,'good':'broke']\n",
    "target = sent1['score']"
   ]
  },
  {
   "cell_type": "code",
   "execution_count": 125,
   "metadata": {
    "collapsed": false
   },
   "outputs": [
    {
     "name": "stdout",
     "output_type": "stream",
     "text": [
      "With 20% Holdout: 0.625\n",
      "Testing on Sample: 0.638\n"
     ]
    },
    {
     "data": {
      "text/plain": [
       "array([0.68, 0.61, 0.64, 0.61, 0.67, 0.56, 0.68, 0.63, 0.65, 0.61])"
      ]
     },
     "execution_count": 125,
     "metadata": {},
     "output_type": "execute_result"
    }
   ],
   "source": [
    "# Instantiate our model and store it in a new variable\n",
    "bnb = BernoulliNB()\n",
    "\n",
    "# Fit our model to the data\n",
    "bnb.fit(data, target)\n",
    "\n",
    "# Classify, storing the result in a new variable\n",
    "y_pred = bnb.predict(data)\n",
    "\n",
    "# Test model with different holdout groups\n",
    "\n",
    "# Use train_test_split to create the necessary training and test groups\n",
    "x_train, x_test, y_train, y_test = train_test_split(data, target, test_size=0.2, random_state=20)\n",
    "print('With 20% Holdout: ' + str(bnb.fit(x_train, y_train).score(x_test, y_test)))\n",
    "print('Testing on Sample: ' + str(bnb.fit(data, target).score(data, target)))\n",
    "\n",
    "cross_val_score(bnb, data, target, cv=10)"
   ]
  },
  {
   "cell_type": "code",
   "execution_count": 126,
   "metadata": {
    "collapsed": false
   },
   "outputs": [
    {
     "data": {
      "text/html": [
       "<div>\n",
       "<table border=\"1\" class=\"dataframe\">\n",
       "  <thead>\n",
       "    <tr style=\"text-align: right;\">\n",
       "      <th></th>\n",
       "      <th>predicted_spam</th>\n",
       "      <th>predicted_ham</th>\n",
       "    </tr>\n",
       "  </thead>\n",
       "  <tbody>\n",
       "    <tr>\n",
       "      <th>actual_spam</th>\n",
       "      <td>474</td>\n",
       "      <td>26</td>\n",
       "    </tr>\n",
       "    <tr>\n",
       "      <th>actual_ham</th>\n",
       "      <td>336</td>\n",
       "      <td>164</td>\n",
       "    </tr>\n",
       "  </tbody>\n",
       "</table>\n",
       "</div>"
      ],
      "text/plain": [
       "             predicted_spam  predicted_ham\n",
       "actual_spam             474             26\n",
       "actual_ham              336            164"
      ]
     },
     "execution_count": 126,
     "metadata": {},
     "output_type": "execute_result"
    }
   ],
   "source": [
    "from sklearn.metrics import confusion_matrix\n",
    "array = confusion_matrix(target, y_pred)\n",
    "array = pd.DataFrame(array)\n",
    "array.columns = ['predicted_spam', 'predicted_ham']\n",
    "array.rename(index={0: 'actual_spam', 1:'actual_ham'})"
   ]
  },
  {
   "cell_type": "code",
   "execution_count": 142,
   "metadata": {
    "collapsed": false
   },
   "outputs": [],
   "source": [
    "sent2 = pd.read_csv(\n",
    "    '/Users/jAir/Desktop/Research/thinkful/datasets/sentiment labelled sentences/amazon_cells_labelled.txt', \n",
    "    sep=\"\\t\", header = None)\n",
    "sent2.columns = ['review', 'score']"
   ]
  },
  {
   "cell_type": "code",
   "execution_count": 143,
   "metadata": {
    "collapsed": true
   },
   "outputs": [],
   "source": [
    "# Iteration 2\n",
    "poswords2 = ['good', 'love', 'great', 'best', 'recommend', 'well', 'fine', 'wow', 'easy', \n",
    "             'excellent', 'better', 'comfortable', 'happ', 'highly', 'impress', 'like', 'new', 'nice', \n",
    "             'recommend']\n",
    "\n",
    "negwords2 = ['didn\\'t', ' not ','disappointed','bad','n\\'t','brok', 'cheap', 'ever', 'few', 'money', ' no ', 'poor', \n",
    "            'problem', ' un']\n",
    "\n",
    "for key in poswords2:\n",
    "    sent2[str(key)] = sent2.review.str.contains(\n",
    "    str(key),\n",
    "    case=False)\n",
    "    \n",
    "for key in negwords2:\n",
    "    sent2[str(key)] = sent2.review.str.contains(\n",
    "    str(key),\n",
    "    case=False)"
   ]
  },
  {
   "cell_type": "code",
   "execution_count": 144,
   "metadata": {
    "collapsed": false
   },
   "outputs": [
    {
     "data": {
      "text/plain": [
       "<matplotlib.axes._subplots.AxesSubplot at 0x116524c18>"
      ]
     },
     "execution_count": 144,
     "metadata": {},
     "output_type": "execute_result"
    },
    {
     "data": {
      "image/png": "[encoded data removed]",
      "text/plain": [
       "<matplotlib.figure.Figure at 0x1167f1710>"
      ]
     },
     "metadata": {},
     "output_type": "display_data"
    }
   ],
   "source": [
    "sns.heatmap(sent2.corr())"
   ]
  },
  {
   "cell_type": "code",
   "execution_count": 150,
   "metadata": {
    "collapsed": false
   },
   "outputs": [],
   "source": [
    "data2 = sent2.loc[:,'good':' un']\n",
    "target2 = sent2['score']"
   ]
  },
  {
   "cell_type": "code",
   "execution_count": 147,
   "metadata": {
    "collapsed": false
   },
   "outputs": [
    {
     "name": "stdout",
     "output_type": "stream",
     "text": [
      "With 20% Holdout: 0.77\n",
      "Testing on Sample: 0.784\n"
     ]
    },
    {
     "data": {
      "text/plain": [
       "array([0.88, 0.74, 0.8 , 0.75, 0.83, 0.66, 0.78, 0.71, 0.85, 0.75])"
      ]
     },
     "execution_count": 147,
     "metadata": {},
     "output_type": "execute_result"
    }
   ],
   "source": [
    "# Instantiate our model and store it in a new variable\n",
    "bnb = BernoulliNB()\n",
    "\n",
    "# Fit our model to the data\n",
    "bnb.fit(data2, target2)\n",
    "\n",
    "# Classify, storing the result in a new variable\n",
    "y_pred2 = bnb.predict(data2)\n",
    "\n",
    "# Test model with different holdout groups\n",
    "\n",
    "# Use train_test_split to create the necessary training and test groups\n",
    "x_train2, x_test2, y_train2, y_test2 = train_test_split(data2, target2, test_size=0.2, random_state=20)\n",
    "print('With 20% Holdout: ' + str(bnb.fit(x_train2, y_train2).score(x_test2, y_test2)))\n",
    "print('Testing on Sample: ' + str(bnb.fit(data2, target2).score(data2, target2)))\n",
    "\n",
    "cross_val_score(bnb, data2, target2, cv=10)"
   ]
  },
  {
   "cell_type": "code",
   "execution_count": 151,
   "metadata": {
    "collapsed": false
   },
   "outputs": [
    {
     "data": {
      "text/html": [
       "<div>\n",
       "<table border=\"1\" class=\"dataframe\">\n",
       "  <thead>\n",
       "    <tr style=\"text-align: right;\">\n",
       "      <th></th>\n",
       "      <th>predicted_spam</th>\n",
       "      <th>predicted_ham</th>\n",
       "    </tr>\n",
       "  </thead>\n",
       "  <tbody>\n",
       "    <tr>\n",
       "      <th>actual_spam</th>\n",
       "      <td>457</td>\n",
       "      <td>43</td>\n",
       "    </tr>\n",
       "    <tr>\n",
       "      <th>actual_ham</th>\n",
       "      <td>173</td>\n",
       "      <td>327</td>\n",
       "    </tr>\n",
       "  </tbody>\n",
       "</table>\n",
       "</div>"
      ],
      "text/plain": [
       "             predicted_spam  predicted_ham\n",
       "actual_spam             457             43\n",
       "actual_ham              173            327"
      ]
     },
     "execution_count": 151,
     "metadata": {},
     "output_type": "execute_result"
    }
   ],
   "source": [
    "array2 = confusion_matrix(target2, y_pred2)\n",
    "array2 = pd.DataFrame(array2)\n",
    "array2.columns = ['predicted_spam', 'predicted_ham']\n",
    "array2.rename(index={0: 'actual_spam', 1:'actual_ham'})"
   ]
  },
  {
   "cell_type": "code",
   "execution_count": 154,
   "metadata": {
    "collapsed": true
   },
   "outputs": [],
   "source": [
    "sent3 = pd.read_csv(\n",
    "    '/Users/jAir/Desktop/Research/thinkful/datasets/sentiment labelled sentences/amazon_cells_labelled.txt', \n",
    "    sep=\"\\t\", header = None)\n",
    "sent3.columns = ['review', 'score']"
   ]
  },
  {
   "cell_type": "code",
   "execution_count": 155,
   "metadata": {
    "collapsed": true
   },
   "outputs": [],
   "source": [
    "# Iteration 3\n",
    "poswords3 = ['good', 'love', 'great', 'best', 'recommend', 'well', 'fine', 'easy', \n",
    "             'excellent', 'comfortable', 'happ', 'highly', 'like', 'nice', \n",
    "             'recommend']\n",
    "\n",
    "negwords3 = ['didn\\'t', ' not ','disappointed','bad','n\\'t','brok', 'ever', 'few', 'money', 'poor', \n",
    "            'problem', ' un']\n",
    "\n",
    "for key in poswords3:\n",
    "    sent3[str(key)] = sent3.review.str.contains(\n",
    "    str(key),\n",
    "    case=False)\n",
    "    \n",
    "for key in negwords3:\n",
    "    sent3[str(key)] = sent3.review.str.contains(\n",
    "    str(key),\n",
    "    case=False)"
   ]
  },
  {
   "cell_type": "code",
   "execution_count": 156,
   "metadata": {
    "collapsed": false
   },
   "outputs": [
    {
     "data": {
      "text/plain": [
       "<matplotlib.axes._subplots.AxesSubplot at 0x1163c8c50>"
      ]
     },
     "execution_count": 156,
     "metadata": {},
     "output_type": "execute_result"
    },
    {
     "data": {
      "image/png": "[encoded data removed]",
      "text/plain": [
       "<matplotlib.figure.Figure at 0x1163da828>"
      ]
     },
     "metadata": {},
     "output_type": "display_data"
    }
   ],
   "source": [
    "sns.heatmap(sent3.corr())"
   ]
  },
  {
   "cell_type": "code",
   "execution_count": 157,
   "metadata": {
    "collapsed": true
   },
   "outputs": [],
   "source": [
    "data3 = sent3.loc[:,'good':' un']\n",
    "target3 = sent3['score']"
   ]
  },
  {
   "cell_type": "code",
   "execution_count": 159,
   "metadata": {
    "collapsed": false
   },
   "outputs": [
    {
     "name": "stdout",
     "output_type": "stream",
     "text": [
      "With 20% Holdout: 0.76\n",
      "Testing on Sample: 0.78\n"
     ]
    },
    {
     "data": {
      "text/plain": [
       "array([0.86, 0.76, 0.82, 0.78, 0.8 , 0.69, 0.77, 0.71, 0.84, 0.75])"
      ]
     },
     "execution_count": 159,
     "metadata": {},
     "output_type": "execute_result"
    }
   ],
   "source": [
    "# Instantiate our model and store it in a new variable\n",
    "bnb = BernoulliNB()\n",
    "\n",
    "# Fit our model to the data\n",
    "bnb.fit(data3, target3)\n",
    "\n",
    "# Classify, storing the result in a new variable\n",
    "y_pred3 = bnb.predict(data3)\n",
    "\n",
    "# Test model with different holdout groups\n",
    "\n",
    "# Use train_test_split to create the necessary training and test groups\n",
    "x_train3, x_test3, y_train3, y_test3 = train_test_split(data3, target3, test_size=0.2, random_state=20)\n",
    "print('With 20% Holdout: ' + str(bnb.fit(x_train3, y_train3).score(x_test3, y_test3)))\n",
    "print('Testing on Sample: ' + str(bnb.fit(data3, target3).score(data3, target3)))\n",
    "\n",
    "cross_val_score(bnb, data3, target3, cv=10)"
   ]
  },
  {
   "cell_type": "code",
   "execution_count": 160,
   "metadata": {
    "collapsed": false
   },
   "outputs": [
    {
     "data": {
      "text/html": [
       "<div>\n",
       "<table border=\"1\" class=\"dataframe\">\n",
       "  <thead>\n",
       "    <tr style=\"text-align: right;\">\n",
       "      <th></th>\n",
       "      <th>predicted_spam</th>\n",
       "      <th>predicted_ham</th>\n",
       "    </tr>\n",
       "  </thead>\n",
       "  <tbody>\n",
       "    <tr>\n",
       "      <th>actual_spam</th>\n",
       "      <td>464</td>\n",
       "      <td>36</td>\n",
       "    </tr>\n",
       "    <tr>\n",
       "      <th>actual_ham</th>\n",
       "      <td>184</td>\n",
       "      <td>316</td>\n",
       "    </tr>\n",
       "  </tbody>\n",
       "</table>\n",
       "</div>"
      ],
      "text/plain": [
       "             predicted_spam  predicted_ham\n",
       "actual_spam             464             36\n",
       "actual_ham              184            316"
      ]
     },
     "execution_count": 160,
     "metadata": {},
     "output_type": "execute_result"
    }
   ],
   "source": [
    "array3 = confusion_matrix(target3, y_pred3)\n",
    "array3 = pd.DataFrame(array3)\n",
    "array3.columns = ['predicted_spam', 'predicted_ham']\n",
    "array3.rename(index={0: 'actual_spam', 1:'actual_ham'})"
   ]
  },
  {
   "cell_type": "markdown",
   "metadata": {},
   "source": [
    "\n",
    "* Do any of your classifiers seem to overfit?\n",
    "      My second and third classifiers seem to have some overfitting. While the raw numbers are better when compared to the first classifier, they do not perform as well in cross validation.\n",
    "* Which seem to perform the best? Why?\n",
    "      I think the third classifier performs the best as it has the highest rate of sensitivity and the lowest rate of specificity. But some work should be done on the overfitting.\n",
    "* Which features seemed to be most impactful to performance?\n",
    "      Building spaces into specific words instead of into all words seemed to help significantly. Some words stand out has correlating the most with the score, such as 'great' and 'not'."
   ]
  }
 ],
 "metadata": {
  "kernelspec": {
   "display_name": "Python 3",
   "language": "python",
   "name": "python3"
  },
  "language_info": {
   "codemirror_mode": {
    "name": "ipython",
    "version": 3
   },
   "file_extension": ".py",
   "mimetype": "text/x-python",
   "name": "python",
   "nbconvert_exporter": "python",
   "pygments_lexer": "ipython3",
   "version": "3.6.0"
  }
 },
 "nbformat": 4,
 "nbformat_minor": 2
}
